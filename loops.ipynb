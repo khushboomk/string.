{
 "cells": [
  {
   "cell_type": "code",
   "execution_count": 1,
   "metadata": {},
   "outputs": [
    {
     "name": "stdout",
     "output_type": "stream",
     "text": [
      "p\n",
      "y\n",
      "t\n",
      "h\n",
      "o\n",
      "n\n"
     ]
    }
   ],
   "source": [
    "x = \"python\"\n",
    "for i in x :\n",
    "    print(i)"
   ]
  },
  {
   "cell_type": "code",
   "execution_count": 2,
   "metadata": {},
   "outputs": [
    {
     "name": "stdout",
     "output_type": "stream",
     "text": [
      "p\n",
      "y\n",
      "t\n",
      "h\n",
      "o\n",
      "n\n",
      " \n",
      "i\n",
      "s\n",
      " \n",
      "a\n",
      "w\n",
      "e\n",
      "s\n",
      "o\n",
      "m\n",
      "e\n"
     ]
    }
   ],
   "source": [
    "x = \"python is awesome\"\n",
    "for i in x:\n",
    "    print(i)"
   ]
  },
  {
   "cell_type": "code",
   "execution_count": 3,
   "metadata": {},
   "outputs": [
    {
     "name": "stdout",
     "output_type": "stream",
     "text": [
      "i have apple\n",
      "i have banana\n",
      "i have lemon\n"
     ]
    }
   ],
   "source": [
    "fruits = ['apple', 'banana', 'lemon']\n",
    "for item in fruits:\n",
    "    print(f'i have {item}')"
   ]
  },
  {
   "cell_type": "code",
   "execution_count": 4,
   "metadata": {},
   "outputs": [],
   "source": [
    "movies = ['The Holy Grali' 'The Life of Brian', 'The meaning of Life', 'Terminator', 'pulp Ficion']"
   ]
  },
  {
   "cell_type": "code",
   "execution_count": 5,
   "metadata": {},
   "outputs": [
    {
     "name": "stdout",
     "output_type": "stream",
     "text": [
      "The Holy GraliThe Life of Brian 31\n",
      "The meaning of Life 19\n",
      "Terminator 10\n",
      "pulp Ficion 11\n"
     ]
    }
   ],
   "source": [
    "for movie in movies:\n",
    "    print(movie, len(movie))"
   ]
  },
  {
   "cell_type": "code",
   "execution_count": 6,
   "metadata": {},
   "outputs": [
    {
     "name": "stdout",
     "output_type": "stream",
     "text": [
      "(i) - (name\n",
      "(i) - (name\n",
      "(i) - (name\n",
      "(i) - (name\n"
     ]
    }
   ],
   "source": [
    "# for Loop with counter\n",
    "for i, name in enumerate (movies):\n",
    "    print(f\"(i) - (name\")"
   ]
  },
  {
   "cell_type": "code",
   "execution_count": 7,
   "metadata": {},
   "outputs": [
    {
     "name": "stdout",
     "output_type": "stream",
     "text": [
      "you got point 0\n",
      "you got point 1\n",
      "you got point 2\n",
      "you got point 3\n",
      "you got point 4\n",
      "you got point 5\n"
     ]
    }
   ],
   "source": [
    "for i in range(6):\n",
    "    print('you got point', i)"
   ]
  },
  {
   "cell_type": "code",
   "execution_count": 8,
   "metadata": {},
   "outputs": [
    {
     "name": "stdout",
     "output_type": "stream",
     "text": [
      "sheep 2\n",
      "sheep 3\n",
      "sheep 4\n",
      "sheep 5\n",
      "sheep 6\n",
      "sheep 7\n",
      "sheep 8\n",
      "sheep 9\n",
      "sheep 10\n"
     ]
    }
   ],
   "source": [
    "for num in range (2,11):\n",
    "    print('sheep',num)"
   ]
  },
  {
   "cell_type": "code",
   "execution_count": 9,
   "metadata": {},
   "outputs": [
    {
     "name": "stdout",
     "output_type": "stream",
     "text": [
      "10\n",
      "9\n",
      "8\n",
      "7\n",
      "6\n"
     ]
    }
   ],
   "source": [
    "# reverse loop\n",
    "for num in range(10,5,-1):\n",
    "    print(num)"
   ]
  },
  {
   "cell_type": "code",
   "execution_count": 10,
   "metadata": {},
   "outputs": [
    {
     "name": "stdout",
     "output_type": "stream",
     "text": [
      "\n",
      "Na\n",
      "NaNa\n",
      "NaNaNa\n",
      "NaNaNaNa\n",
      "NaNaNaNaNa\n",
      "NaNaNaNaNaNa\n",
      "NaNaNaNaNaNaNa\n",
      "NaNaNaNaNaNaNaNa\n",
      "NaNaNaNaNaNaNaNaNa\n"
     ]
    }
   ],
   "source": [
    "# pattern loop\n",
    "for i in range(10):\n",
    "    print(i * 'Na')"
   ]
  },
  {
   "cell_type": "markdown",
   "metadata": {},
   "source": [
    "### wap to print if number are even or odd from 1,101.\n",
    "### wap to print the sum of all even numbers from 2 to 101.\n",
    "### wap o print the average of all odd numbers from 1 to 100."
   ]
  },
  {
   "cell_type": "code",
   "execution_count": 11,
   "metadata": {},
   "outputs": [
    {
     "name": "stdout",
     "output_type": "stream",
     "text": [
      "odd 1\n",
      "even 2\n",
      "odd 3\n",
      "even 4\n",
      "odd 5\n",
      "even 6\n",
      "odd 7\n",
      "even 8\n",
      "odd 9\n",
      "even 10\n",
      "odd 11\n",
      "even 12\n",
      "odd 13\n",
      "even 14\n",
      "odd 15\n",
      "even 16\n",
      "odd 17\n",
      "even 18\n",
      "odd 19\n",
      "even 20\n",
      "odd 21\n",
      "even 22\n",
      "odd 23\n",
      "even 24\n",
      "odd 25\n",
      "even 26\n",
      "odd 27\n",
      "even 28\n",
      "odd 29\n",
      "even 30\n",
      "odd 31\n",
      "even 32\n",
      "odd 33\n",
      "even 34\n",
      "odd 35\n",
      "even 36\n",
      "odd 37\n",
      "even 38\n",
      "odd 39\n",
      "even 40\n",
      "odd 41\n",
      "even 42\n",
      "odd 43\n",
      "even 44\n",
      "odd 45\n",
      "even 46\n",
      "odd 47\n",
      "even 48\n",
      "odd 49\n",
      "even 50\n",
      "odd 51\n",
      "even 52\n",
      "odd 53\n",
      "even 54\n",
      "odd 55\n",
      "even 56\n",
      "odd 57\n",
      "even 58\n",
      "odd 59\n",
      "even 60\n",
      "odd 61\n",
      "even 62\n",
      "odd 63\n",
      "even 64\n",
      "odd 65\n",
      "even 66\n",
      "odd 67\n",
      "even 68\n",
      "odd 69\n",
      "even 70\n",
      "odd 71\n",
      "even 72\n",
      "odd 73\n",
      "even 74\n",
      "odd 75\n",
      "even 76\n",
      "odd 77\n",
      "even 78\n",
      "odd 79\n",
      "even 80\n",
      "odd 81\n",
      "even 82\n",
      "odd 83\n",
      "even 84\n",
      "odd 85\n",
      "even 86\n",
      "odd 87\n",
      "even 88\n",
      "odd 89\n",
      "even 90\n",
      "odd 91\n",
      "even 92\n",
      "odd 93\n",
      "even 94\n",
      "odd 95\n",
      "even 96\n",
      "odd 97\n",
      "even 98\n",
      "odd 99\n",
      "even 100\n"
     ]
    }
   ],
   "source": [
    "#1\n",
    "for i in range(1, 101):\n",
    "    if i %2 == 0:\n",
    "        print('even', i)\n",
    "    else:\n",
    "        print('odd',i)"
   ]
  },
  {
   "cell_type": "code",
   "execution_count": 12,
   "metadata": {},
   "outputs": [
    {
     "name": "stdout",
     "output_type": "stream",
     "text": [
      "total of all even numbers=> 2\n",
      "total of all even numbers=> 6\n",
      "total of all even numbers=> 12\n",
      "total of all even numbers=> 20\n",
      "total of all even numbers=> 30\n",
      "total of all even numbers=> 42\n",
      "total of all even numbers=> 56\n",
      "total of all even numbers=> 72\n",
      "total of all even numbers=> 90\n",
      "total of all even numbers=> 110\n",
      "total of all even numbers=> 132\n",
      "total of all even numbers=> 156\n",
      "total of all even numbers=> 182\n",
      "total of all even numbers=> 210\n",
      "total of all even numbers=> 240\n",
      "total of all even numbers=> 272\n",
      "total of all even numbers=> 306\n",
      "total of all even numbers=> 342\n",
      "total of all even numbers=> 380\n",
      "total of all even numbers=> 420\n",
      "total of all even numbers=> 462\n",
      "total of all even numbers=> 506\n",
      "total of all even numbers=> 552\n",
      "total of all even numbers=> 600\n",
      "total of all even numbers=> 650\n",
      "total of all even numbers=> 702\n",
      "total of all even numbers=> 756\n",
      "total of all even numbers=> 812\n",
      "total of all even numbers=> 870\n",
      "total of all even numbers=> 930\n",
      "total of all even numbers=> 992\n",
      "total of all even numbers=> 1056\n",
      "total of all even numbers=> 1122\n",
      "total of all even numbers=> 1190\n",
      "total of all even numbers=> 1260\n",
      "total of all even numbers=> 1332\n",
      "total of all even numbers=> 1406\n",
      "total of all even numbers=> 1482\n",
      "total of all even numbers=> 1560\n",
      "total of all even numbers=> 1640\n",
      "total of all even numbers=> 1722\n",
      "total of all even numbers=> 1806\n",
      "total of all even numbers=> 1892\n",
      "total of all even numbers=> 1980\n",
      "total of all even numbers=> 2070\n",
      "total of all even numbers=> 2162\n",
      "total of all even numbers=> 2256\n",
      "total of all even numbers=> 2352\n",
      "total of all even numbers=> 2450\n",
      "total of all even numbers=> 2550\n"
     ]
    }
   ],
   "source": [
    "#2 simple version\n",
    "total = 0\n",
    "for i in range(2, 102):\n",
    "    if i % 2 == 0:\n",
    "        total += i\n",
    "        print(\"total of all even numbers=>\",total)\n"
   ]
  },
  {
   "cell_type": "code",
   "execution_count": 13,
   "metadata": {},
   "outputs": [
    {
     "name": "stdout",
     "output_type": "stream",
     "text": [
      "1,2,3,4,5\n",
      "2,4,6,8,10\n",
      "3,6,9,12,15\n",
      "4,8,12,16,20\n",
      "5,10,15,20,25,30\n"
     ]
    }
   ],
   "source": [
    "# naive implementation\n",
    "print(1,2,3,4,5,sep=',')\n",
    "print(2,4,6,8,10,sep=',')\n",
    "print(3,6,9,12,15,sep=',')\n",
    "print(4,8,12,16,20,sep=',')\n",
    "print(5,10,15,20,25,30,sep=',')"
   ]
  },
  {
   "cell_type": "code",
   "execution_count": 14,
   "metadata": {},
   "outputs": [
    {
     "name": "stdout",
     "output_type": "stream",
     "text": [
      "1,2,3,4,5\n",
      "2,4,6,8,10\n",
      "3,6,9,12,15\n",
      "4,8,12,16,20\n",
      "5,10,15,20,25\n"
     ]
    }
   ],
   "source": [
    "# better implemenation\n",
    "for i in range(1,6):\n",
    "    print(1*i,2*i,3*i,4*i,5*i,sep=',')"
   ]
  },
  {
   "cell_type": "code",
   "execution_count": 15,
   "metadata": {},
   "outputs": [
    {
     "name": "stdout",
     "output_type": "stream",
     "text": [
      "1,\n",
      "2,\n",
      "3,\n",
      "4,\n",
      "2,\n",
      "4,\n",
      "6,\n",
      "8,\n",
      "3,\n",
      "6,\n",
      "9,\n",
      "12,\n",
      "4,\n",
      "8,\n",
      "12,\n",
      "16,\n"
     ]
    }
   ],
   "source": [
    "# best implemenation -> dynamics row col\n",
    "for row in range(1,5):\n",
    "    for col in range(1,5):\n",
    "        print(row*col,end=',')\n",
    "        print()"
   ]
  },
  {
   "cell_type": "code",
   "execution_count": 16,
   "metadata": {},
   "outputs": [
    {
     "name": "stdout",
     "output_type": "stream",
     "text": [
      "1\n",
      "2\n",
      "3\n",
      "4\n",
      "5\n",
      "2\n",
      "4\n",
      "6\n",
      "8\n",
      "10\n",
      "3\n",
      "6\n",
      "9\n",
      "12\n",
      "15\n",
      "4\n",
      "8\n",
      "12\n",
      "16\n",
      "20\n",
      "5\n",
      "10\n",
      "15\n",
      "20\n",
      "25\n"
     ]
    }
   ],
   "source": [
    "for row in range(1,6):\n",
    "    for col in range(1,6):\n",
    "        print(row*col,end='')\n",
    "        print()"
   ]
  },
  {
   "cell_type": "markdown",
   "metadata": {},
   "source": [
    "While loop"
   ]
  },
  {
   "cell_type": "code",
   "execution_count": 17,
   "metadata": {},
   "outputs": [
    {
     "name": "stdout",
     "output_type": "stream",
     "text": [
      "run\n",
      "stop\n",
      "run\n",
      "stop\n",
      "run\n",
      "stop\n",
      "run\n",
      "stop\n"
     ]
    }
   ],
   "source": [
    "x =1\n",
    "while x < 5:\n",
    "    print('run')\n",
    "    x+=1\n",
    "    print('stop')"
   ]
  },
  {
   "cell_type": "code",
   "execution_count": 18,
   "metadata": {},
   "outputs": [
    {
     "name": "stdout",
     "output_type": "stream",
     "text": [
      "The sum is  1\n",
      "The sum is  3\n",
      "The sum is  6\n",
      "The sum is  10\n",
      "The sum is  15\n",
      "The sum is  21\n",
      "The sum is  28\n",
      "The sum is  36\n",
      "The sum is  45\n",
      "The sum is  55\n"
     ]
    }
   ],
   "source": [
    "# a complex program\n",
    "n=10\n",
    "\n",
    "# initializa sum and counter\n",
    "sum = 0\n",
    "i = 1\n",
    "\n",
    "while i <= n:\n",
    "    sum = sum + i\n",
    "    i = i+1 # update counter\n",
    "\n",
    "    # print the sum \n",
    "    print(\"The sum is \",sum)"
   ]
  },
  {
   "cell_type": "code",
   "execution_count": 19,
   "metadata": {},
   "outputs": [],
   "source": [
    "poem=''\n",
    "while input ('do you want to write another link?[y/n')=='y':\n",
    "    line = input(\">>>\")\n",
    "    poem +=line\n",
    "    chars = len(poem)\n",
    "    print(f\"total char in poem is {chars}\")"
   ]
  },
  {
   "cell_type": "markdown",
   "metadata": {},
   "source": [
    "## Break & Countinue"
   ]
  },
  {
   "cell_type": "code",
   "execution_count": 20,
   "metadata": {},
   "outputs": [
    {
     "name": "stdout",
     "output_type": "stream",
     "text": [
      "1\n",
      "3\n",
      "6\n",
      "10\n",
      "15\n",
      "21\n",
      "28\n",
      "36\n",
      "45\n",
      "55\n"
     ]
    }
   ],
   "source": [
    "# continue\n",
    "x = [1,2,3,4,5,6,7,8,9,10]\n",
    "total = 0\n",
    "for i in x :\n",
    "    if isinstance(i,str):\n",
    "        continue\n",
    "    total+=i\n",
    "    print(total)"
   ]
  },
  {
   "cell_type": "code",
   "execution_count": 22,
   "metadata": {},
   "outputs": [
    {
     "ename": "SyntaxError",
     "evalue": "invalid syntax (468167737.py, line 7)",
     "output_type": "error",
     "traceback": [
      "\u001b[1;36m  Input \u001b[1;32mIn [22]\u001b[1;36m\u001b[0m\n\u001b[1;33m    total += i print (total)\u001b[0m\n\u001b[1;37m               ^\u001b[0m\n\u001b[1;31mSyntaxError\u001b[0m\u001b[1;31m:\u001b[0m invalid syntax\n"
     ]
    }
   ],
   "source": [
    "# continue\n",
    "x = [1,2,'',3,4,5,'',6,7,'',8,9,10]\n",
    "total = 0\n",
    "for i in x :\n",
    "    if isinstance(i,str):\n",
    "        continue\n",
    "    total += i print (total)"
   ]
  },
  {
   "cell_type": "code",
   "execution_count": 23,
   "metadata": {},
   "outputs": [],
   "source": [
    "poem=''\n",
    "while True:# infinite\n",
    "    line = input(\"enter poem line>>\")\n",
    "    if line:\n",
    "        poem += line+'/n'\n",
    "    else:\n",
    "        break\n",
    "    print(\"total char\",len(poem))\n",
    "    print(poem)"
   ]
  },
  {
   "cell_type": "code",
   "execution_count": 24,
   "metadata": {},
   "outputs": [
    {
     "name": "stdout",
     "output_type": "stream",
     "text": [
      "1,2,3,4,5\n",
      "2,4,6,8,10\n",
      "3,6,9,12,15\n",
      "4,8,12,16,20\n",
      "5,10,15,20,25\n"
     ]
    }
   ],
   "source": [
    "for i in range(1,6):\n",
    "    print(1*i,2*i,3*i,4*i,5*i,sep=',')"
   ]
  },
  {
   "cell_type": "code",
   "execution_count": 25,
   "metadata": {},
   "outputs": [
    {
     "name": "stdout",
     "output_type": "stream",
     "text": [
      "4,8\n",
      "8,16\n"
     ]
    }
   ],
   "source": [
    "for i in range(2,5,2):\n",
    "    print(2*i,4*i,sep=',')"
   ]
  },
  {
   "cell_type": "code",
   "execution_count": null,
   "metadata": {},
   "outputs": [],
   "source": []
  }
 ],
 "metadata": {
  "interpreter": {
   "hash": "ecf5722fdaf1897a315d257d89d94520bfcaa453217d5becf09b39e73618b0de"
  },
  "kernelspec": {
   "display_name": "Python 3.9.10 ('base')",
   "language": "python",
   "name": "python3"
  },
  "language_info": {
   "codemirror_mode": {
    "name": "ipython",
    "version": 3
   },
   "file_extension": ".py",
   "mimetype": "text/x-python",
   "name": "python",
   "nbconvert_exporter": "python",
   "pygments_lexer": "ipython3",
   "version": "3.9.10"
  },
  "orig_nbformat": 4
 },
 "nbformat": 4,
 "nbformat_minor": 2
}
