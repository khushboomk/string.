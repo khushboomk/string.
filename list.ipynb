{
 "cells": [
  {
   "cell_type": "markdown",
   "metadata": {},
   "source": [
    "# List \n",
    "- list is mutable '(item add, remove)'\n",
    "- list is heterogenous '(mixed data can be stored)'\n",
    "- list can have duuplicate values\n",
    "- list is indexed '(item have indexes and can be sliced )'\n",
    "- list uses '[]' brackets with values inside it seperated with commas\n",
    "\n",
    "### what to learn\n",
    "\n",
    "- #### creating a list\n",
    "- #### indexing n slicing\n",
    "- #### traversal (looping)\n",
    "- #### function(11)\n",
    "- #### comprehension\n",
    "- #### lambda, map and filter"
   ]
  },
  {
   "cell_type": "code",
   "execution_count": null,
   "metadata": {},
   "outputs": [
    {
     "ename": "IndentationError",
     "evalue": "unexpected indent (4169665757.py, line 10)",
     "output_type": "error",
     "traceback": [
      "\u001b[1;36m  Input \u001b[1;32mIn [5]\u001b[1;36m\u001b[0m\n\u001b[1;33m    fact = \"icecubes sits in its own blood\"\u001b[0m\n\u001b[1;37m    ^\u001b[0m\n\u001b[1;31mIndentationError\u001b[0m\u001b[1;31m:\u001b[0m unexpected indent\n"
     ]
    }
   ],
   "source": [
    "# List of strings\n",
    "names = [\"Kaladin\", \"Adolion\", 'Dalinar', 'Wit', 'shallan', 'Navani']\n",
    "# List of numbers\n",
    "factors = [1,2,3,4,5,15,25,100]\n",
    "# mixed data List\n",
    "info = ['Ravi', 90, 102, 93, 29, 44, \"B\",False,5.786 ]\n",
    "# nested List\n",
    "c2d = [[1,2,3],[3,4,5,7],[2,1]]\n",
    "\n",
    "# List from function\n",
    " fact = \"icecubes sits in its own blood\"\n",
    " words = fact.split()\n",
    " "
   ]
  },
  {
   "cell_type": "code",
   "execution_count": null,
   "metadata": {},
   "outputs": [],
   "source": [
    "# quick List hack with same values\n",
    "x = [1]*10\n",
    "print(x)"
   ]
  },
  {
   "cell_type": "code",
   "execution_count": null,
   "metadata": {},
   "outputs": [],
   "source": [
    "# List from variables\n",
    "a =10\n",
    "b =''\n",
    "c =9\n",
    "x = 100\n",
    "l =[a,b,c,x]\n",
    "print(l)"
   ]
  },
  {
   "cell_type": "code",
   "execution_count": 6,
   "metadata": {},
   "outputs": [],
   "source": [
    "kharche = [] # empty List"
   ]
  },
  {
   "cell_type": "code",
   "execution_count": 9,
   "metadata": {},
   "outputs": [
    {
     "name": "stdout",
     "output_type": "stream",
     "text": [
      "[100, 100, 200, 100]\n",
      "[100, 100, 200, 100, 200]\n",
      "[100, 100, 200, 100, 200, 300]\n"
     ]
    }
   ],
   "source": [
    "kharche.append (100)\n",
    "print(kharche)\n",
    "kharche.append (200)\n",
    "print(kharche)\n",
    "kharche.append (300)\n",
    "print(kharche)"
   ]
  },
  {
   "cell_type": "code",
   "execution_count": 2,
   "metadata": {},
   "outputs": [
    {
     "ename": "KeyboardInterrupt",
     "evalue": "Interrupted by user",
     "output_type": "error",
     "traceback": [
      "\u001b[1;31m---------------------------------------------------------------------------\u001b[0m",
      "\u001b[1;31mKeyboardInterrupt\u001b[0m                         Traceback (most recent call last)",
      "\u001b[1;32mc:\\Users\\hp\\Documents\\python classes\\list.ipynb Cell 7'\u001b[0m in \u001b[0;36m<module>\u001b[1;34m\u001b[0m\n\u001b[0;32m      <a href='vscode-notebook-cell:/c%3A/Users/hp/Documents/python%20classes/list.ipynb#ch0000006?line=0'>1</a>\u001b[0m fav_foods \u001b[39m=\u001b[39m []\n\u001b[0;32m      <a href='vscode-notebook-cell:/c%3A/Users/hp/Documents/python%20classes/list.ipynb#ch0000006?line=1'>2</a>\u001b[0m \u001b[39mfor\u001b[39;00m i \u001b[39min\u001b[39;00m \u001b[39mrange\u001b[39m(\u001b[39m3\u001b[39m):\n\u001b[1;32m----> <a href='vscode-notebook-cell:/c%3A/Users/hp/Documents/python%20classes/list.ipynb#ch0000006?line=2'>3</a>\u001b[0m     food \u001b[39m=\u001b[39m \u001b[39minput\u001b[39;49m(\u001b[39m\"\u001b[39;49m\u001b[39menter name of ur fav food=>\u001b[39;49m\u001b[39m\"\u001b[39;49m)\n\u001b[0;32m      <a href='vscode-notebook-cell:/c%3A/Users/hp/Documents/python%20classes/list.ipynb#ch0000006?line=3'>4</a>\u001b[0m     fav_foods\u001b[39m.\u001b[39mappend(food)\n\u001b[0;32m      <a href='vscode-notebook-cell:/c%3A/Users/hp/Documents/python%20classes/list.ipynb#ch0000006?line=4'>5</a>\u001b[0m \u001b[39mprint\u001b[39m(fav_foods)\n",
      "File \u001b[1;32mC:\\ProgramData\\Miniconda3\\lib\\site-packages\\ipykernel\\kernelbase.py:1062\u001b[0m, in \u001b[0;36mKernel.raw_input\u001b[1;34m(self, prompt)\u001b[0m\n\u001b[0;32m   <a href='file:///c%3A/ProgramData/Miniconda3/lib/site-packages/ipykernel/kernelbase.py?line=1057'>1058</a>\u001b[0m \u001b[39mif\u001b[39;00m \u001b[39mnot\u001b[39;00m \u001b[39mself\u001b[39m\u001b[39m.\u001b[39m_allow_stdin:\n\u001b[0;32m   <a href='file:///c%3A/ProgramData/Miniconda3/lib/site-packages/ipykernel/kernelbase.py?line=1058'>1059</a>\u001b[0m     \u001b[39mraise\u001b[39;00m StdinNotImplementedError(\n\u001b[0;32m   <a href='file:///c%3A/ProgramData/Miniconda3/lib/site-packages/ipykernel/kernelbase.py?line=1059'>1060</a>\u001b[0m         \u001b[39m\"\u001b[39m\u001b[39mraw_input was called, but this frontend does not support input requests.\u001b[39m\u001b[39m\"\u001b[39m\n\u001b[0;32m   <a href='file:///c%3A/ProgramData/Miniconda3/lib/site-packages/ipykernel/kernelbase.py?line=1060'>1061</a>\u001b[0m     )\n\u001b[1;32m-> <a href='file:///c%3A/ProgramData/Miniconda3/lib/site-packages/ipykernel/kernelbase.py?line=1061'>1062</a>\u001b[0m \u001b[39mreturn\u001b[39;00m \u001b[39mself\u001b[39;49m\u001b[39m.\u001b[39;49m_input_request(\n\u001b[0;32m   <a href='file:///c%3A/ProgramData/Miniconda3/lib/site-packages/ipykernel/kernelbase.py?line=1062'>1063</a>\u001b[0m     \u001b[39mstr\u001b[39;49m(prompt),\n\u001b[0;32m   <a href='file:///c%3A/ProgramData/Miniconda3/lib/site-packages/ipykernel/kernelbase.py?line=1063'>1064</a>\u001b[0m     \u001b[39mself\u001b[39;49m\u001b[39m.\u001b[39;49m_parent_ident[\u001b[39m\"\u001b[39;49m\u001b[39mshell\u001b[39;49m\u001b[39m\"\u001b[39;49m],\n\u001b[0;32m   <a href='file:///c%3A/ProgramData/Miniconda3/lib/site-packages/ipykernel/kernelbase.py?line=1064'>1065</a>\u001b[0m     \u001b[39mself\u001b[39;49m\u001b[39m.\u001b[39;49mget_parent(\u001b[39m\"\u001b[39;49m\u001b[39mshell\u001b[39;49m\u001b[39m\"\u001b[39;49m),\n\u001b[0;32m   <a href='file:///c%3A/ProgramData/Miniconda3/lib/site-packages/ipykernel/kernelbase.py?line=1065'>1066</a>\u001b[0m     password\u001b[39m=\u001b[39;49m\u001b[39mFalse\u001b[39;49;00m,\n\u001b[0;32m   <a href='file:///c%3A/ProgramData/Miniconda3/lib/site-packages/ipykernel/kernelbase.py?line=1066'>1067</a>\u001b[0m )\n",
      "File \u001b[1;32mC:\\ProgramData\\Miniconda3\\lib\\site-packages\\ipykernel\\kernelbase.py:1107\u001b[0m, in \u001b[0;36mKernel._input_request\u001b[1;34m(self, prompt, ident, parent, password)\u001b[0m\n\u001b[0;32m   <a href='file:///c%3A/ProgramData/Miniconda3/lib/site-packages/ipykernel/kernelbase.py?line=1103'>1104</a>\u001b[0m             \u001b[39mbreak\u001b[39;00m\n\u001b[0;32m   <a href='file:///c%3A/ProgramData/Miniconda3/lib/site-packages/ipykernel/kernelbase.py?line=1104'>1105</a>\u001b[0m \u001b[39mexcept\u001b[39;00m \u001b[39mKeyboardInterrupt\u001b[39;00m:\n\u001b[0;32m   <a href='file:///c%3A/ProgramData/Miniconda3/lib/site-packages/ipykernel/kernelbase.py?line=1105'>1106</a>\u001b[0m     \u001b[39m# re-raise KeyboardInterrupt, to truncate traceback\u001b[39;00m\n\u001b[1;32m-> <a href='file:///c%3A/ProgramData/Miniconda3/lib/site-packages/ipykernel/kernelbase.py?line=1106'>1107</a>\u001b[0m     \u001b[39mraise\u001b[39;00m \u001b[39mKeyboardInterrupt\u001b[39;00m(\u001b[39m\"\u001b[39m\u001b[39mInterrupted by user\u001b[39m\u001b[39m\"\u001b[39m) \u001b[39mfrom\u001b[39;00m \u001b[39mNone\u001b[39m\n\u001b[0;32m   <a href='file:///c%3A/ProgramData/Miniconda3/lib/site-packages/ipykernel/kernelbase.py?line=1107'>1108</a>\u001b[0m \u001b[39mexcept\u001b[39;00m \u001b[39mException\u001b[39;00m:\n\u001b[0;32m   <a href='file:///c%3A/ProgramData/Miniconda3/lib/site-packages/ipykernel/kernelbase.py?line=1108'>1109</a>\u001b[0m     \u001b[39mself\u001b[39m\u001b[39m.\u001b[39mlog\u001b[39m.\u001b[39mwarning(\u001b[39m\"\u001b[39m\u001b[39mInvalid Message:\u001b[39m\u001b[39m\"\u001b[39m, exc_info\u001b[39m=\u001b[39m\u001b[39mTrue\u001b[39;00m)\n",
      "\u001b[1;31mKeyboardInterrupt\u001b[0m: Interrupted by user"
     ]
    }
   ],
   "source": [
    "fav_foods = []\n",
    "for i in range(3):\n",
    "    food = input(\"enter name of ur fav food=>\")\n",
    "    fav_foods.append(food)\n",
    "print(fav_foods)\n"
   ]
  },
  {
   "cell_type": "code",
   "execution_count": null,
   "metadata": {},
   "outputs": [],
   "source": [
    "nums = []\n",
    "for i in range(1,101):\n",
    "    nums.append(i)\n",
    "print(nums)\n"
   ]
  },
  {
   "cell_type": "code",
   "execution_count": null,
   "metadata": {},
   "outputs": [],
   "source": [
    "names[2]"
   ]
  },
  {
   "cell_type": "code",
   "execution_count": 1,
   "metadata": {},
   "outputs": [
    {
     "ename": "NameError",
     "evalue": "name 'words' is not defined",
     "output_type": "error",
     "traceback": [
      "\u001b[1;31m---------------------------------------------------------------------------\u001b[0m",
      "\u001b[1;31mNameError\u001b[0m                                 Traceback (most recent call last)",
      "\u001b[1;32mc:\\Users\\hp\\Documents\\python classes\\list.ipynb Cell 10'\u001b[0m in \u001b[0;36m<module>\u001b[1;34m\u001b[0m\n\u001b[1;32m----> <a href='vscode-notebook-cell:/c%3A/Users/hp/Documents/python%20classes/list.ipynb#ch0000009?line=0'>1</a>\u001b[0m words[\u001b[39m-\u001b[39m\u001b[39m2\u001b[39m]\n",
      "\u001b[1;31mNameError\u001b[0m: name 'words' is not defined"
     ]
    }
   ],
   "source": [
    "words[-2]"
   ]
  },
  {
   "cell_type": "markdown",
   "metadata": {},
   "source": [
    "### functions\n",
    "# ading items\n",
    "- oppend\n",
    "- insert\n",
    "extend\n",
    "### delet items\n",
    " - remove\n",
    " - pop\n",
    " - clear\n",
    " ### utility func\n",
    " - reverse\n",
    " - sort\n",
    " - count\n",
    " - iindex\n",
    " - copy"
   ]
  },
  {
   "cell_type": "code",
   "execution_count": 4,
   "metadata": {},
   "outputs": [
    {
     "data": {
      "text/plain": [
       "['apple', 'banana', 'cherry', 'guava']"
      ]
     },
     "execution_count": 4,
     "metadata": {},
     "output_type": "execute_result"
    }
   ],
   "source": [
    "fruits = []\n",
    "fruits.append(\"apple\")\n",
    "fruits.append(\"banana\")\n",
    "fruits.append(\"cherry\")\n",
    "fruits.append(\"guava\")\n",
    "fruits"
   ]
  },
  {
   "cell_type": "code",
   "execution_count": 6,
   "metadata": {},
   "outputs": [
    {
     "data": {
      "text/plain": [
       "['apple', 'banana', 'cherry', 'fig', 'fig', 'guava']"
      ]
     },
     "execution_count": 6,
     "metadata": {},
     "output_type": "execute_result"
    }
   ],
   "source": [
    "fruits.insert(-1, 'fig')\n",
    "fruits"
   ]
  },
  {
   "cell_type": "code",
   "execution_count": 7,
   "metadata": {},
   "outputs": [
    {
     "data": {
      "text/plain": [
       "['apple', 'banana', 'cherry', 'fig', 'dragonfruit', 'fig', 'guava']"
      ]
     },
     "execution_count": 7,
     "metadata": {},
     "output_type": "execute_result"
    }
   ],
   "source": [
    "fruits.insert(-2, 'dragonfruit')\n",
    "fruits"
   ]
  },
  {
   "cell_type": "code",
   "execution_count": 8,
   "metadata": {},
   "outputs": [
    {
     "data": {
      "text/plain": [
       "['apple', 'avocado', 'banana', 'cherry', 'fig', 'dragonfruit', 'fig', 'guava']"
      ]
     },
     "execution_count": 8,
     "metadata": {},
     "output_type": "execute_result"
    }
   ],
   "source": [
    "fruits.insert(1,'avocado')\n",
    "fruits"
   ]
  },
  {
   "cell_type": "code",
   "execution_count": 10,
   "metadata": {},
   "outputs": [
    {
     "data": {
      "text/plain": [
       "['apple',\n",
       " 'avocado',\n",
       " 'banana',\n",
       " 'cherry',\n",
       " 'fig',\n",
       " 'dragonfruit',\n",
       " 'fig',\n",
       " 'guava',\n",
       " 'rotten apple',\n",
       " 'rotten apple']"
      ]
     },
     "execution_count": 10,
     "metadata": {},
     "output_type": "execute_result"
    }
   ],
   "source": [
    "fruits.insert(100,'rotten apple')\n",
    "fruits"
   ]
  },
  {
   "cell_type": "code",
   "execution_count": 11,
   "metadata": {},
   "outputs": [
    {
     "data": {
      "text/plain": [
       "['apple',\n",
       " 'avocado',\n",
       " 'banana',\n",
       " 'cherry',\n",
       " 'fig',\n",
       " 'dragonfruit',\n",
       " 'fig',\n",
       " 'guava',\n",
       " 'rotten apple',\n",
       " 'rotten apple',\n",
       " 'rotten banana']"
      ]
     },
     "execution_count": 11,
     "metadata": {},
     "output_type": "execute_result"
    }
   ],
   "source": [
    "fruits.insert(1000, 'rotten banana')\n",
    "fruits"
   ]
  },
  {
   "cell_type": "code",
   "execution_count": 12,
   "metadata": {},
   "outputs": [
    {
     "data": {
      "text/plain": [
       "['apple',\n",
       " 'avocado',\n",
       " 'banana',\n",
       " 'cherry',\n",
       " 'fig',\n",
       " 'dragonfruit',\n",
       " 'fig',\n",
       " 'fig',\n",
       " 'guava',\n",
       " 'rotten apple',\n",
       " 'rotten apple',\n",
       " 'rotten banana']"
      ]
     },
     "execution_count": 12,
     "metadata": {},
     "output_type": "execute_result"
    }
   ],
   "source": [
    "fruits.insert(-5, 'fig')\n",
    "fruits"
   ]
  },
  {
   "cell_type": "code",
   "execution_count": 13,
   "metadata": {},
   "outputs": [
    {
     "data": {
      "text/plain": [
       "['Almonda', 'cashew', 'walnut']"
      ]
     },
     "execution_count": 13,
     "metadata": {},
     "output_type": "execute_result"
    }
   ],
   "source": [
    "dry_fruits = ['Almonda', 'cashew', 'walnut']\n",
    "dry_fruits"
   ]
  },
  {
   "cell_type": "code",
   "execution_count": 14,
   "metadata": {},
   "outputs": [
    {
     "data": {
      "text/plain": [
       "['apple',\n",
       " 'avocado',\n",
       " 'banana',\n",
       " 'cherry',\n",
       " 'fig',\n",
       " 'dragonfruit',\n",
       " 'fig',\n",
       " 'fig',\n",
       " 'guava',\n",
       " 'rotten apple',\n",
       " 'rotten apple',\n",
       " 'rotten banana',\n",
       " ['Almonda', 'cashew', 'walnut']]"
      ]
     },
     "execution_count": 14,
     "metadata": {},
     "output_type": "execute_result"
    }
   ],
   "source": [
    "fruits.append(dry_fruits)\n",
    "fruits"
   ]
  },
  {
   "cell_type": "code",
   "execution_count": 17,
   "metadata": {},
   "outputs": [
    {
     "data": {
      "text/plain": [
       "16"
      ]
     },
     "execution_count": 17,
     "metadata": {},
     "output_type": "execute_result"
    }
   ],
   "source": [
    "len(fruits)"
   ]
  },
  {
   "cell_type": "code",
   "execution_count": 15,
   "metadata": {},
   "outputs": [
    {
     "data": {
      "text/plain": [
       "['apple',\n",
       " 'avocado',\n",
       " 'banana',\n",
       " 'cherry',\n",
       " 'fig',\n",
       " 'dragonfruit',\n",
       " 'fig',\n",
       " 'fig',\n",
       " 'guava',\n",
       " 'rotten apple',\n",
       " 'rotten apple',\n",
       " 'rotten banana',\n",
       " ['Almonda', 'cashew', 'walnut'],\n",
       " 'Almonda',\n",
       " 'cashew',\n",
       " 'walnut']"
      ]
     },
     "execution_count": 15,
     "metadata": {},
     "output_type": "execute_result"
    }
   ],
   "source": [
    "fruits.extend(dry_fruits)\n",
    "fruits"
   ]
  },
  {
   "cell_type": "code",
   "execution_count": 16,
   "metadata": {},
   "outputs": [
    {
     "data": {
      "text/plain": [
       "16"
      ]
     },
     "execution_count": 16,
     "metadata": {},
     "output_type": "execute_result"
    }
   ],
   "source": [
    "len(fruits)"
   ]
  },
  {
   "cell_type": "code",
   "execution_count": 18,
   "metadata": {},
   "outputs": [
    {
     "name": "stdout",
     "output_type": "stream",
     "text": [
      "['apple', 'avocado', 'banana', 'cherry', 'fig', 'dragonfruit', 'fig', 'fig', 'guava', 'rotten apple', 'rotten banana', ['Almonda', 'cashew', 'walnut'], 'Almonda', 'cashew', 'walnut']\n"
     ]
    }
   ],
   "source": [
    "if 'rotten apple' in fruits:\n",
    "    fruits.remove('rotten apple')\n",
    "    print(fruits)\n",
    "else:\n",
    "    print('no rotten apple found')"
   ]
  },
  {
   "cell_type": "code",
   "execution_count": 19,
   "metadata": {},
   "outputs": [],
   "source": [
    "if 'papaya' in fruits:\n",
    "    fruits.remove('papaya')"
   ]
  },
  {
   "cell_type": "markdown",
   "metadata": {},
   "source": [
    "### pop can be used in 2 way\n",
    "- list.pop()=> remove the last value in the list and gives us that value\n",
    "- list,pop(idx)=> remove the value from idx if idx is valid and gives the value"
   ]
  },
  {
   "cell_type": "code",
   "execution_count": 25,
   "metadata": {},
   "outputs": [
    {
     "name": "stdout",
     "output_type": "stream",
     "text": [
      "removed_value=> <built-in method pop of list object at 0x00000093C1FB4140>\n",
      "list=> ['apple', 'avocado', 'banana', 'cherry', 'fig', 'dragonfruit', 'fig', 'fig', 'guava', 'rotten apple', 'rotten banana', ['Almonda', 'cashew', 'walnut'], 'Almonda', 'cashew', 'walnut']\n"
     ]
    }
   ],
   "source": [
    "v = fruits.pop\n",
    "print('removed_value=>',v)\n",
    "print('list=>', fruits)"
   ]
  },
  {
   "cell_type": "code",
   "execution_count": 26,
   "metadata": {},
   "outputs": [
    {
     "name": "stdout",
     "output_type": "stream",
     "text": [
      "removed_value=> cherry\n",
      "list=> ['apple', 'avocado', 'banana', 'fig', 'dragonfruit', 'fig', 'fig', 'guava', 'rotten apple', 'rotten banana', ['Almonda', 'cashew', 'walnut'], 'Almonda', 'cashew', 'walnut']\n"
     ]
    }
   ],
   "source": [
    "v = fruits.pop(3) # removing from index 3\n",
    "print('removed_value=>',v)\n",
    "print('list=>', fruits)"
   ]
  },
  {
   "cell_type": "code",
   "execution_count": 20,
   "metadata": {},
   "outputs": [
    {
     "data": {
      "text/plain": [
       "[1, 2, 3, [1, 2, 3, 4]]"
      ]
     },
     "execution_count": 20,
     "metadata": {},
     "output_type": "execute_result"
    }
   ],
   "source": [
    "x = [1,2,3,[1,2,3,4]]\n",
    "x"
   ]
  },
  {
   "cell_type": "code",
   "execution_count": 22,
   "metadata": {},
   "outputs": [],
   "source": [
    "if 2 in x[3]:\n",
    "    x[3].remove(2)"
   ]
  },
  {
   "cell_type": "code",
   "execution_count": 5,
   "metadata": {},
   "outputs": [
    {
     "data": {
      "text/plain": [
       "[]"
      ]
     },
     "execution_count": 5,
     "metadata": {},
     "output_type": "execute_result"
    }
   ],
   "source": [
    "fruits.clear()\n",
    "fruits"
   ]
  },
  {
   "cell_type": "code",
   "execution_count": 9,
   "metadata": {},
   "outputs": [],
   "source": [
    "movies =[\n",
    "    'bhabhi ji ghar per h'\n",
    "    'pushpa'\n",
    "    'krish'\n",
    "    'spyder man'\n",
    "    'krish 2'\n",
    "    'krish 3'\n",
    "    'jungle rummy'\n",
    "    'free guy'\n",
    "    'mortal kombat'\n",
    "]\n",
    "    \n",
    "    "
   ]
  },
  {
   "cell_type": "code",
   "execution_count": 10,
   "metadata": {},
   "outputs": [
    {
     "name": "stdout",
     "output_type": "stream",
     "text": [
      "normal\\,movies\n",
      "reverse\n",
      " ['bhabhi ji ghar per hpushpakrishspyder mankrish 2krish 3jungle rummyfree guymortal kombat']\n"
     ]
    }
   ],
   "source": [
    "print(\"normal\\,movies\")\n",
    "movies.reverse()\n",
    "print(\"reverse\\n\",movies)"
   ]
  },
  {
   "cell_type": "code",
   "execution_count": 12,
   "metadata": {},
   "outputs": [
    {
     "name": "stdout",
     "output_type": "stream",
     "text": [
      "['bhabhi ji ghar per hpushpakrishspyder mankrish 2krish 3jungle rummyfree guymortal kombat']\n"
     ]
    }
   ],
   "source": [
    "movies.sort()\n",
    "print(movies)"
   ]
  },
  {
   "cell_type": "code",
   "execution_count": 13,
   "metadata": {},
   "outputs": [
    {
     "name": "stdout",
     "output_type": "stream",
     "text": [
      "['bhabhi ji ghar per hpushpakrishspyder mankrish 2krish 3jungle rummyfree guymortal kombat']\n"
     ]
    }
   ],
   "source": [
    "movies.sort(reverse=True)\n",
    "print(movies)"
   ]
  },
  {
   "cell_type": "code",
   "execution_count": 14,
   "metadata": {},
   "outputs": [
    {
     "name": "stdout",
     "output_type": "stream",
     "text": [
      "['bhabhi ji ghar per hpushpakrishspyder mankrish 2krish 3jungle rummyfree guymortal kombat']\n"
     ]
    }
   ],
   "source": [
    "dup_mov = movies.copy()\n",
    "print(dup_mov)"
   ]
  },
  {
   "cell_type": "code",
   "execution_count": 21,
   "metadata": {},
   "outputs": [],
   "source": [
    "if 'Nobody' in movies:\n",
    "    print(movies.index('krish'))"
   ]
  },
  {
   "cell_type": "code",
   "execution_count": 23,
   "metadata": {},
   "outputs": [],
   "source": [
    "x =[1,2,3,1,2,3,1,2,3,1,2,3,1,2,3,1,2,3,1,1,1,2,2,2,3,3,3,1,1,1,2,2,2,3,3,3,1,1,1,2,2,2,3,3,3,1,1,1,2,2,2,1,1,1,]"
   ]
  },
  {
   "cell_type": "code",
   "execution_count": 24,
   "metadata": {},
   "outputs": [
    {
     "data": {
      "text/plain": [
       "21"
      ]
     },
     "execution_count": 24,
     "metadata": {},
     "output_type": "execute_result"
    }
   ],
   "source": [
    "x.count(1)"
   ]
  },
  {
   "cell_type": "code",
   "execution_count": 25,
   "metadata": {},
   "outputs": [
    {
     "data": {
      "text/plain": [
       "18"
      ]
     },
     "execution_count": 25,
     "metadata": {},
     "output_type": "execute_result"
    }
   ],
   "source": [
    "x.count(2)"
   ]
  },
  {
   "cell_type": "code",
   "execution_count": 26,
   "metadata": {},
   "outputs": [
    {
     "data": {
      "text/plain": [
       "15"
      ]
     },
     "execution_count": 26,
     "metadata": {},
     "output_type": "execute_result"
    }
   ],
   "source": [
    "x.count(3)"
   ]
  },
  {
   "cell_type": "code",
   "execution_count": 27,
   "metadata": {},
   "outputs": [
    {
     "data": {
      "text/plain": [
       "0"
      ]
     },
     "execution_count": 27,
     "metadata": {},
     "output_type": "execute_result"
    }
   ],
   "source": [
    "x.count(4)"
   ]
  },
  {
   "cell_type": "markdown",
   "metadata": {},
   "source": [
    "# wap a program to enter 15 number in list, then print the sum, min, max, mean of that list"
   ]
  },
  {
   "cell_type": "code",
   "execution_count": 30,
   "metadata": {},
   "outputs": [],
   "source": [
    "nums = []\n",
    "for i in range(15):\n",
    "    val = int(input(f'enter{i+1} number:'))\n",
    "    nums.append(val)\n",
    "print(\"sum of values = \", sum(nums))\n",
    "print(\"min value = \", min(nums))\n",
    "print(\"max values = \", max(nums))\n",
    "print(\"mean of values = \", sum(nums)/len(nums))"
   ]
  },
  {
   "cell_type": "code",
   "execution_count": null,
   "metadata": {},
   "outputs": [],
   "source": []
  }
 ],
 "metadata": {
  "interpreter": {
   "hash": "ecf5722fdaf1897a315d257d89d94520bfcaa453217d5becf09b39e73618b0de"
  },
  "kernelspec": {
   "display_name": "Python 3.9.10 ('base')",
   "language": "python",
   "name": "python3"
  },
  "language_info": {
   "codemirror_mode": {
    "name": "ipython",
    "version": 3
   },
   "file_extension": ".py",
   "mimetype": "text/x-python",
   "name": "python",
   "nbconvert_exporter": "python",
   "pygments_lexer": "ipython3",
   "version": "3.9.10"
  },
  "orig_nbformat": 4
 },
 "nbformat": 4,
 "nbformat_minor": 2
}
